{
 "cells": [
  {
   "cell_type": "code",
   "execution_count": 1,
   "id": "fe03e371",
   "metadata": {},
   "outputs": [],
   "source": [
    "import numpy as np"
   ]
  },
  {
   "cell_type": "markdown",
   "id": "6e20cc94",
   "metadata": {},
   "source": [
    "# mean speed of the all rides"
   ]
  },
  {
   "cell_type": "code",
   "execution_count": 2,
   "id": "3fa4c4d3",
   "metadata": {},
   "outputs": [],
   "source": [
    "taxi = np.genfromtxt(\"nyc_taxis.csv\",delimiter=\",\",skip_header = True)"
   ]
  },
  {
   "cell_type": "code",
   "execution_count": 3,
   "id": "0f373700",
   "metadata": {},
   "outputs": [],
   "source": [
    "speed = taxi[:,7]/(taxi[:,8]/3600)"
   ]
  },
  {
   "cell_type": "code",
   "execution_count": 4,
   "id": "21254053",
   "metadata": {},
   "outputs": [],
   "source": [
    "mean_speed=speed.mean()"
   ]
  },
  {
   "cell_type": "code",
   "execution_count": 5,
   "id": "e31704b3",
   "metadata": {},
   "outputs": [
    {
     "name": "stdout",
     "output_type": "stream",
     "text": [
      "32.24258580925573\n"
     ]
    }
   ],
   "source": [
    "print(mean_speed)"
   ]
  },
  {
   "cell_type": "markdown",
   "id": "631c0216",
   "metadata": {},
   "source": [
    "# numbers of rides taken in february(feb code is 2)"
   ]
  },
  {
   "cell_type": "code",
   "execution_count": 6,
   "id": "54ea0430",
   "metadata": {},
   "outputs": [
    {
     "name": "stdout",
     "output_type": "stream",
     "text": [
      "13333\n"
     ]
    }
   ],
   "source": [
    "rides_feb = taxi[taxi[:,1]==2,1]\n",
    "print(rides_feb.shape[0])"
   ]
  },
  {
   "cell_type": "markdown",
   "id": "4a9dce2f",
   "metadata": {},
   "source": [
    "# number of rides where tipped more than 50"
   ]
  },
  {
   "cell_type": "code",
   "execution_count": 7,
   "id": "eae674b2",
   "metadata": {},
   "outputs": [
    {
     "name": "stdout",
     "output_type": "stream",
     "text": [
      "16\n"
     ]
    }
   ],
   "source": [
    "print(taxi[taxi[:,-3] >50,-3].shape[0])"
   ]
  },
  {
   "cell_type": "markdown",
   "id": "ec3fefa3",
   "metadata": {},
   "source": [
    "# numbers of rides where dropped was jfk airport(jfk code is 2)"
   ]
  },
  {
   "cell_type": "code",
   "execution_count": 8,
   "id": "db2bb982",
   "metadata": {},
   "outputs": [
    {
     "name": "stdout",
     "output_type": "stream",
     "text": [
      "11832\n"
     ]
    }
   ],
   "source": [
    "print(taxi[taxi[:,6]==2,6].shape[0])"
   ]
  },
  {
   "cell_type": "code",
   "execution_count": null,
   "id": "c4ccca63",
   "metadata": {},
   "outputs": [],
   "source": []
  }
 ],
 "metadata": {
  "kernelspec": {
   "display_name": "Python 3 (ipykernel)",
   "language": "python",
   "name": "python3"
  },
  "language_info": {
   "codemirror_mode": {
    "name": "ipython",
    "version": 3
   },
   "file_extension": ".py",
   "mimetype": "text/x-python",
   "name": "python",
   "nbconvert_exporter": "python",
   "pygments_lexer": "ipython3",
   "version": "3.10.6"
  }
 },
 "nbformat": 4,
 "nbformat_minor": 5
}
